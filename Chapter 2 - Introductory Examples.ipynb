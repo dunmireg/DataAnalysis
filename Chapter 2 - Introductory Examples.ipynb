{
 "cells": [
  {
   "cell_type": "markdown",
   "metadata": {},
   "source": [
    "##Usa.gov data from bitly"
   ]
  },
  {
   "cell_type": "code",
   "execution_count": 1,
   "metadata": {
    "collapsed": false
   },
   "outputs": [
    {
     "data": {
      "text/plain": [
       "'{ \"a\": \"Mozilla\\\\/5.0 (Windows NT 6.1; WOW64) AppleWebKit\\\\/535.11 (KHTML, like Gecko) Chrome\\\\/17.0.963.78 Safari\\\\/535.11\", \"c\": \"US\", \"nk\": 1, \"tz\": \"America\\\\/New_York\", \"gr\": \"MA\", \"g\": \"A6qOVH\", \"h\": \"wfLQtf\", \"l\": \"orofrog\", \"al\": \"en-US,en;q=0.8\", \"hh\": \"1.usa.gov\", \"r\": \"http:\\\\/\\\\/www.facebook.com\\\\/l\\\\/7AQEFzjSi\\\\/1.usa.gov\\\\/wfLQtf\", \"u\": \"http:\\\\/\\\\/www.ncbi.nlm.nih.gov\\\\/pubmed\\\\/22415991\", \"t\": 1331923247, \"hc\": 1331822918, \"cy\": \"Danvers\", \"ll\": [ 42.576698, -70.954903 ] }\\n'"
      ]
     },
     "execution_count": 1,
     "metadata": {},
     "output_type": "execute_result"
    }
   ],
   "source": [
    "path = 'pydata-book/ch02/usagov_bitly_data2012-03-16-1331923249.txt'\n",
    "open(path).readline()"
   ]
  },
  {
   "cell_type": "code",
   "execution_count": 2,
   "metadata": {
    "collapsed": false
   },
   "outputs": [
    {
     "name": "stdout",
     "output_type": "stream",
     "text": [
      "{u'a': u'Mozilla/5.0 (Windows NT 6.1; WOW64) AppleWebKit/535.11 (KHTML, like Gecko) Chrome/17.0.963.78 Safari/535.11', u'c': u'US', u'nk': 1, u'tz': u'America/New_York', u'gr': u'MA', u'g': u'A6qOVH', u'h': u'wfLQtf', u'cy': u'Danvers', u'l': u'orofrog', u'al': u'en-US,en;q=0.8', u'hh': u'1.usa.gov', u'r': u'http://www.facebook.com/l/7AQEFzjSi/1.usa.gov/wfLQtf', u'u': u'http://www.ncbi.nlm.nih.gov/pubmed/22415991', u't': 1331923247, u'hc': 1331822918, u'll': [42.576698, -70.954903]}\n",
      "America/New_York\n"
     ]
    }
   ],
   "source": [
    "import json\n",
    "path = 'pydata-book/ch02/usagov_bitly_data2012-03-16-1331923249.txt'\n",
    "records = [json.loads(line) for line in open(path, 'rb')]\n",
    "print records[0]\n",
    "print records[0]['tz']"
   ]
  },
  {
   "cell_type": "markdown",
   "metadata": {},
   "source": [
    "##Counting Time Zones in Pure Python"
   ]
  },
  {
   "cell_type": "code",
   "execution_count": 4,
   "metadata": {
    "collapsed": false
   },
   "outputs": [
    {
     "data": {
      "text/plain": [
       "[u'America/New_York',\n",
       " u'America/Denver',\n",
       " u'America/New_York',\n",
       " u'America/Sao_Paulo',\n",
       " u'America/New_York',\n",
       " u'America/New_York',\n",
       " u'Europe/Warsaw',\n",
       " u'',\n",
       " u'',\n",
       " u'']"
      ]
     },
     "execution_count": 4,
     "metadata": {},
     "output_type": "execute_result"
    }
   ],
   "source": [
    "#This will give an error because not all records have a time zone field\n",
    "#time_zones = [rec['tz'] for rec in records]\n",
    "#correct way:\n",
    "time_zones = [rec['tz'] for rec in records if 'tz' in rec]\n",
    "time_zones[:10]"
   ]
  },
  {
   "cell_type": "code",
   "execution_count": 5,
   "metadata": {
    "collapsed": false
   },
   "outputs": [
    {
     "name": "stdout",
     "output_type": "stream",
     "text": [
      "1251\n",
      "3440\n",
      "\n",
      "\n",
      "[(33, u'America/Sao_Paulo'), (35, u'Europe/Madrid'), (36, u'Pacific/Honolulu'), (37, u'Asia/Tokyo'), (74, u'Europe/London'), (191, u'America/Denver'), (382, u'America/Los_Angeles'), (400, u'America/Chicago'), (521, u''), (1251, u'America/New_York')]\n",
      "[(u'America/New_York', 1251), (u'', 521), (u'America/Chicago', 400), (u'America/Los_Angeles', 382), (u'America/Denver', 191), (u'Europe/London', 74), (u'Asia/Tokyo', 37), (u'Pacific/Honolulu', 36), (u'Europe/Madrid', 35), (u'America/Sao_Paulo', 33)]\n"
     ]
    }
   ],
   "source": [
    "#To count time zones the hard way defining functions\n",
    "\n",
    "def get_counts(sequence):\n",
    "    counts = {}\n",
    "    for x in sequence:\n",
    "        if x in counts:\n",
    "            counts[x] += 1\n",
    "        else:\n",
    "            counts[x] = 1\n",
    "    return counts\n",
    "\n",
    "#briefer version\n",
    "from collections import defaultdict\n",
    "\n",
    "def get_counts2(sequence):\n",
    "    counts = defaultdict(int) #values will initialize to 0\n",
    "    for x in sequence:\n",
    "        counts[x] += 1\n",
    "    return counts\n",
    "\n",
    "counts = get_counts(time_zones)\n",
    "print counts['America/New_York']\n",
    "print len(time_zones)\n",
    "\n",
    "print '\\n'\n",
    "\n",
    "#Defining the top 10\n",
    "def top_counts(count_dict, n = 10):\n",
    "    value_key_pairs = [(count, tz) for tz, count in count_dict.items()]\n",
    "    value_key_pairs.sort()\n",
    "    return value_key_pairs[-n:]\n",
    "\n",
    "from collections import Counter\n",
    "counts = Counter(time_zones)\n",
    "\n",
    "\n",
    "print top_counts(counts)\n",
    "print counts.most_common(10)"
   ]
  },
  {
   "cell_type": "code",
   "execution_count": 6,
   "metadata": {
    "collapsed": false
   },
   "outputs": [
    {
     "name": "stdout",
     "output_type": "stream",
     "text": [
      "<class 'pandas.core.frame.DataFrame'>\n",
      "Int64Index: 3560 entries, 0 to 3559\n",
      "Data columns (total 18 columns):\n",
      "_heartbeat_    120 non-null float64\n",
      "a              3440 non-null object\n",
      "al             3094 non-null object\n",
      "c              2919 non-null object\n",
      "cy             2919 non-null object\n",
      "g              3440 non-null object\n",
      "gr             2919 non-null object\n",
      "h              3440 non-null object\n",
      "hc             3440 non-null float64\n",
      "hh             3440 non-null object\n",
      "kw             93 non-null object\n",
      "l              3440 non-null object\n",
      "ll             2919 non-null object\n",
      "nk             3440 non-null float64\n",
      "r              3440 non-null object\n",
      "t              3440 non-null float64\n",
      "tz             3440 non-null object\n",
      "u              3440 non-null object\n",
      "dtypes: float64(4), object(14)\n",
      "memory usage: 528.4+ KB\n",
      "None\n",
      "0     America/New_York\n",
      "1       America/Denver\n",
      "2     America/New_York\n",
      "3    America/Sao_Paulo\n",
      "4     America/New_York\n",
      "5     America/New_York\n",
      "6        Europe/Warsaw\n",
      "7                     \n",
      "8                     \n",
      "9                     \n",
      "Name: tz, dtype: object\n",
      "America/New_York       1251\n",
      "                        521\n",
      "America/Chicago         400\n",
      "America/Los_Angeles     382\n",
      "America/Denver          191\n",
      "Europe/London            74\n",
      "Asia/Tokyo               37\n",
      "Pacific/Honolulu         36\n",
      "Europe/Madrid            35\n",
      "America/Sao_Paulo        33\n",
      "dtype: int64\n"
     ]
    }
   ],
   "source": [
    "#Now do this with pandas\n",
    "from pandas import DataFrame, Series\n",
    "import pandas as pd\n",
    "\n",
    "frame = DataFrame(records)\n",
    "\n",
    "print frame.info() #summary view\n",
    "print frame['tz'][:10] #returns a Series object \n",
    "\n",
    "tz_counts = frame['tz'].value_counts()\n",
    "print tz_counts[:10]"
   ]
  },
  {
   "cell_type": "code",
   "execution_count": 7,
   "metadata": {
    "collapsed": false
   },
   "outputs": [
    {
     "name": "stdout",
     "output_type": "stream",
     "text": [
      "America/New_York       1251\n",
      "Unknown                 521\n",
      "America/Chicago         400\n",
      "America/Los_Angeles     382\n",
      "America/Denver          191\n",
      "Missing                 120\n",
      "Europe/London            74\n",
      "Asia/Tokyo               37\n",
      "Pacific/Honolulu         36\n",
      "Europe/Madrid            35\n",
      "dtype: int64\n",
      "Axes(0.125,0.1;0.775x0.8)\n"
     ]
    }
   ],
   "source": [
    "#Let's make a plot and fill in missing values with NA's\n",
    "\n",
    "clean_tz = frame['tz'].fillna('Missing') #replace missing values\n",
    "clean_tz[clean_tz == ''] = 'Unknown'\n",
    "tz_counts = clean_tz.value_counts()\n",
    "print tz_counts[:10]\n",
    "\n",
    "print tz_counts[:10].plot(kind = 'barh', rot = 0) #not sure, need to make into a plot\n",
    "\n"
   ]
  },
  {
   "cell_type": "code",
   "execution_count": 11,
   "metadata": {
    "collapsed": false
   },
   "outputs": [
    {
     "name": "stdout",
     "output_type": "stream",
     "text": [
      "GoogleMaps/RochesterNY\n",
      "Mozilla/5.0 (Windows NT 5.1; rv:10.0.2) Gecko/20100101 Firefox/10.0.2\n",
      "Mozilla/5.0 (Linux; U; Android 2.2.2; en-us; LG-P925/V10e Build/FRG83G) AppleWebKit/533.1 (KHTML, like Gecko) Version/4.0 Mobile Safari/533.1\n",
      "\n",
      "\n",
      "0               Mozilla/5.0\n",
      "1    GoogleMaps/RochesterNY\n",
      "2               Mozilla/4.0\n",
      "3               Mozilla/5.0\n",
      "4               Mozilla/5.0\n",
      "dtype: object\n",
      "\n",
      "\n",
      "Mozilla/5.0                 2594\n",
      "Mozilla/4.0                  601\n",
      "GoogleMaps/RochesterNY       121\n",
      "Opera/9.80                    34\n",
      "TEST_INTERNET_AGENT           24\n",
      "GoogleProducer                21\n",
      "Mozilla/6.0                    5\n",
      "BlackBerry8520/5.0.0.681       4\n",
      "dtype: int64\n"
     ]
    }
   ],
   "source": [
    "#Parsing information on agent strings\n",
    "print frame['a'][1]\n",
    "print frame['a'][50]\n",
    "print frame['a'][51]\n",
    "\n",
    "print '\\n'\n",
    "results = Series([x.split()[0] for x in frame.a.dropna()])\n",
    "print results[:5]\n",
    "print '\\n'\n",
    "print results.value_counts()[:8]"
   ]
  },
  {
   "cell_type": "code",
   "execution_count": 17,
   "metadata": {
    "collapsed": false
   },
   "outputs": [
    {
     "name": "stdout",
     "output_type": "stream",
     "text": [
      "['Windows' 'Not Windows' 'Windows' 'Not Windows' 'Windows']\n",
      "\n",
      "\n",
      "                                Not Windows  Windows\n",
      "tz                                                  \n",
      "                                        245      276\n",
      "Africa/Cairo                              0        3\n",
      "Africa/Casablanca                         0        1\n",
      "Africa/Ceuta                              0        2\n",
      "Africa/Johannesburg                       0        1\n",
      "Africa/Lusaka                             0        1\n",
      "America/Anchorage                         4        1\n",
      "America/Argentina/Buenos_Aires            1        0\n",
      "America/Argentina/Cordoba                 0        1\n",
      "America/Argentina/Mendoza                 0        1\n",
      "                     Not Windows  Windows\n",
      "tz                                       \n",
      "America/Sao_Paulo             13       20\n",
      "Europe/Madrid                 16       19\n",
      "Pacific/Honolulu               0       36\n",
      "Asia/Tokyo                     2       35\n",
      "Europe/London                 43       31\n",
      "America/Denver               132       59\n",
      "America/Los_Angeles          130      252\n",
      "America/Chicago              115      285\n",
      "                             245      276\n",
      "America/New_York             339      912\n"
     ]
    },
    {
     "ename": "AttributeError",
     "evalue": "'AxesSubplot' object has no attribute 'show'",
     "output_type": "error",
     "traceback": [
      "\u001b[1;31m---------------------------------------------------------------------------\u001b[0m",
      "\u001b[1;31mAttributeError\u001b[0m                            Traceback (most recent call last)",
      "\u001b[1;32m<ipython-input-17-cc7821a08914>\u001b[0m in \u001b[0;36m<module>\u001b[1;34m()\u001b[0m\n\u001b[0;32m     20\u001b[0m \u001b[1;33m\u001b[0m\u001b[0m\n\u001b[0;32m     21\u001b[0m \u001b[0mnormed_subset\u001b[0m \u001b[1;33m=\u001b[0m \u001b[0mcount_subset\u001b[0m\u001b[1;33m.\u001b[0m\u001b[0mdiv\u001b[0m\u001b[1;33m(\u001b[0m\u001b[0mcount_subset\u001b[0m\u001b[1;33m.\u001b[0m\u001b[0msum\u001b[0m\u001b[1;33m(\u001b[0m\u001b[1;36m1\u001b[0m\u001b[1;33m)\u001b[0m\u001b[1;33m,\u001b[0m \u001b[0maxis\u001b[0m \u001b[1;33m=\u001b[0m \u001b[1;36m0\u001b[0m\u001b[1;33m)\u001b[0m\u001b[1;33m\u001b[0m\u001b[0m\n\u001b[1;32m---> 22\u001b[1;33m \u001b[0mnormed_subset\u001b[0m\u001b[1;33m.\u001b[0m\u001b[0mplot\u001b[0m\u001b[1;33m(\u001b[0m\u001b[0mkind\u001b[0m \u001b[1;33m=\u001b[0m \u001b[1;34m'barh'\u001b[0m\u001b[1;33m,\u001b[0m \u001b[0mstacked\u001b[0m \u001b[1;33m=\u001b[0m \u001b[0mTrue\u001b[0m\u001b[1;33m)\u001b[0m\u001b[1;33m.\u001b[0m\u001b[0mshow\u001b[0m\u001b[1;33m(\u001b[0m\u001b[1;33m)\u001b[0m\u001b[1;33m\u001b[0m\u001b[0m\n\u001b[0m",
      "\u001b[1;31mAttributeError\u001b[0m: 'AxesSubplot' object has no attribute 'show'"
     ]
    }
   ],
   "source": [
    "#decompose the top time zones into Windows and non-Windows users\n",
    "import numpy as np\n",
    "cframe = frame[frame.a.notnull()]\n",
    "operating_system = np.where(cframe['a'].str.contains('Windows'), 'Windows', 'Not Windows')\n",
    "print operating_system[:5]\n",
    "\n",
    "print '\\n'\n",
    "\n",
    "#group by time zone and new list\n",
    "by_tz_os = cframe.groupby(['tz', operating_system])\n",
    "agg_counts = by_tz_os.size().unstack().fillna(0) #reshape into table using unstack\n",
    "print agg_counts[:10]\n",
    "\n",
    "#Select overall timezones\n",
    "indexer = agg_counts.sum(1).argsort()\n",
    "indexer[:10]\n",
    "\n",
    "count_subset = agg_counts.take(indexer)[-10:] #slice off last 10 rows\n",
    "print count_subset\n",
    "\n",
    "normed_subset = count_subset.div(count_subset.sum(1), axis = 0)\n",
    "normed_subset.plot(kind = 'barh', stacked = True)"
   ]
  },
  {
   "cell_type": "markdown",
   "metadata": {},
   "source": [
    "##MovieLens 1M Data Set"
   ]
  },
  {
   "cell_type": "code",
   "execution_count": 5,
   "metadata": {
    "collapsed": false
   },
   "outputs": [
    {
     "name": "stdout",
     "output_type": "stream",
     "text": [
      "   user_id gender  age  occupation    zip\n",
      "0        1      F    1          10  48067\n",
      "1        2      M   56          16  70072\n",
      "2        3      M   25          15  55117\n",
      "3        4      M   45           7  02460\n",
      "4        5      M   25          20  55455\n",
      "   user_id  movie_id  rating  timestamp\n",
      "0        1      1193       5  978300760\n",
      "1        1       661       3  978302109\n",
      "2        1       914       3  978301968\n",
      "3        1      3408       4  978300275\n",
      "4        1      2355       5  978824291\n",
      "   movie_id                               title                        genres\n",
      "0         1                    Toy Story (1995)   Animation|Children's|Comedy\n",
      "1         2                      Jumanji (1995)  Adventure|Children's|Fantasy\n",
      "2         3             Grumpier Old Men (1995)                Comedy|Romance\n",
      "3         4            Waiting to Exhale (1995)                  Comedy|Drama\n",
      "4         5  Father of the Bride Part II (1995)                        Comedy\n"
     ]
    }
   ],
   "source": [
    "import pandas as pd\n",
    "unames = ['user_id', 'gender', 'age', 'occupation', 'zip']\n",
    "users = pd.read_table('pydata-book/ch02/movielens/users.dat', sep = '::', header = None, names = unames)\n",
    "\n",
    "rnames = ['user_id', 'movie_id', 'rating', 'timestamp']\n",
    "ratings = pd.read_table('pydata-book/ch02/movielens/ratings.dat', sep = '::', header = None, names = rnames)\n",
    "\n",
    "mnames = ['movie_id', 'title', 'genres']\n",
    "movies = pd.read_table('pydata-book/ch02/movielens/movies.dat', sep = '::', header = None, names = mnames)\n",
    "\n",
    "print users[:5]\n",
    "print ratings[:5]\n",
    "print movies[:5]"
   ]
  },
  {
   "cell_type": "code",
   "execution_count": 8,
   "metadata": {
    "collapsed": false
   },
   "outputs": [
    {
     "name": "stdout",
     "output_type": "stream",
     "text": [
      "   user_id  movie_id  rating  timestamp gender  age  occupation    zip  \\\n",
      "0        1      1193       5  978300760      F    1          10  48067   \n",
      "1        2      1193       5  978298413      M   56          16  70072   \n",
      "2       12      1193       4  978220179      M   25          12  32793   \n",
      "3       15      1193       4  978199279      M   25           7  22903   \n",
      "4       17      1193       5  978158471      M   50           1  95350   \n",
      "\n",
      "                                    title genres  \n",
      "0  One Flew Over the Cuckoo's Nest (1975)  Drama  \n",
      "1  One Flew Over the Cuckoo's Nest (1975)  Drama  \n",
      "2  One Flew Over the Cuckoo's Nest (1975)  Drama  \n",
      "3  One Flew Over the Cuckoo's Nest (1975)  Drama  \n",
      "4  One Flew Over the Cuckoo's Nest (1975)  Drama  \n"
     ]
    }
   ],
   "source": [
    "#merge these individual tables into one large table\n",
    "data = pd.merge(pd.merge(ratings, users), movies)\n",
    "print data[:5]"
   ]
  },
  {
   "cell_type": "code",
   "execution_count": 9,
   "metadata": {
    "collapsed": false
   },
   "outputs": [
    {
     "name": "stdout",
     "output_type": "stream",
     "text": [
      "gender                                F         M\n",
      "title                                            \n",
      "$1,000,000 Duck (1971)         3.375000  2.761905\n",
      "'Night Mother (1986)           3.388889  3.352941\n",
      "'Til There Was You (1997)      2.675676  2.733333\n",
      "'burbs, The (1989)             2.793478  2.962085\n",
      "...And Justice for All (1979)  3.828571  3.689024\n"
     ]
    }
   ],
   "source": [
    "#get the mean movie rating for each film grouped by gender\n",
    "mean_ratings = data.pivot_table('rating','title','gender', 'mean')\n",
    "print mean_ratings[:5]"
   ]
  },
  {
   "cell_type": "code",
   "execution_count": 10,
   "metadata": {
    "collapsed": false
   },
   "outputs": [
    {
     "name": "stdout",
     "output_type": "stream",
     "text": [
      "title\n",
      "$1,000,000 Duck (1971)            37\n",
      "'Night Mother (1986)              70\n",
      "'Til There Was You (1997)         52\n",
      "'burbs, The (1989)               303\n",
      "...And Justice for All (1979)    199\n",
      "dtype: int64\n",
      "\n",
      "\n",
      "Only get titles with more than 250 ratings\n",
      "\n",
      "\n",
      "Index([u''burbs, The (1989)', u'10 Things I Hate About You (1999)',\n",
      "       u'101 Dalmatians (1961)', u'101 Dalmatians (1996)',\n",
      "       u'12 Angry Men (1957)'],\n",
      "      dtype='object', name=u'title')\n",
      "\n",
      "\n",
      "select rows by mean rating\n",
      "\n",
      "\n",
      "gender                                                     F         M\n",
      "title                                                                 \n",
      "'burbs, The (1989)                                  2.793478  2.962085\n",
      "10 Things I Hate About You (1999)                   3.646552  3.311966\n",
      "101 Dalmatians (1961)                               3.791444  3.500000\n",
      "101 Dalmatians (1996)                               3.240000  2.911215\n",
      "12 Angry Men (1957)                                 4.184397  4.328421\n",
      "13th Warrior, The (1999)                            3.112000  3.168000\n",
      "2 Days in the Valley (1996)                         3.488889  3.244813\n",
      "20,000 Leagues Under the Sea (1954)                 3.670103  3.709205\n",
      "2001: A Space Odyssey (1968)                        3.825581  4.129738\n",
      "2010 (1984)                                         3.446809  3.413712\n",
      "28 Days (2000)                                      3.209424  2.977707\n",
      "39 Steps, The (1935)                                3.965517  4.107692\n",
      "54 (1998)                                           2.701754  2.782178\n",
      "7th Voyage of Sinbad, The (1958)                    3.409091  3.658879\n",
      "8MM (1999)                                          2.906250  2.850962\n",
      "About Last Night... (1986)                          3.188679  3.140909\n",
      "Absent Minded Professor, The (1961)                 3.469388  3.446809\n",
      "Absolute Power (1997)                               3.469136  3.327759\n",
      "Abyss, The (1989)                                   3.659236  3.689507\n",
      "Ace Ventura: Pet Detective (1994)                   3.000000  3.197917\n",
      "Ace Ventura: When Nature Calls (1995)               2.269663  2.543333\n",
      "Addams Family Values (1993)                         3.000000  2.878531\n",
      "Addams Family, The (1991)                           3.186170  3.163498\n",
      "Adventures in Babysitting (1987)                    3.455782  3.208122\n",
      "Adventures of Buckaroo Bonzai Across the 8th Di...  3.308511  3.402321\n",
      "Adventures of Priscilla, Queen of the Desert, T...  3.989071  3.688811\n",
      "Adventures of Robin Hood, The (1938)                4.166667  3.918367\n",
      "African Queen, The (1951)                           4.324232  4.223822\n",
      "Age of Innocence, The (1993)                        3.827068  3.339506\n",
      "Agnes of God (1985)                                 3.534884  3.244898\n",
      "...                                                      ...       ...\n",
      "White Men Can't Jump (1992)                         3.028777  3.231061\n",
      "Who Framed Roger Rabbit? (1988)                     3.569378  3.713251\n",
      "Who's Afraid of Virginia Woolf? (1966)              4.029703  4.096939\n",
      "Whole Nine Yards, The (2000)                        3.296552  3.404814\n",
      "Wild Bunch, The (1969)                              3.636364  4.128099\n",
      "Wild Things (1998)                                  3.392000  3.459082\n",
      "Wild Wild West (1999)                               2.275449  2.131973\n",
      "William Shakespeare's Romeo and Juliet (1996)       3.532609  3.318644\n",
      "Willow (1988)                                       3.658683  3.453543\n",
      "Willy Wonka and the Chocolate Factory (1971)        4.063953  3.789474\n",
      "Witness (1985)                                      4.115854  3.941504\n",
      "Wizard of Oz, The (1939)                            4.355030  4.203138\n",
      "Wolf (1994)                                         3.074074  2.899083\n",
      "Women on the Verge of a Nervous Breakdown (1988)    3.934307  3.865741\n",
      "Wonder Boys (2000)                                  4.043796  3.913649\n",
      "Working Girl (1988)                                 3.606742  3.312500\n",
      "World Is Not Enough, The (1999)                     3.337500  3.388889\n",
      "Wrong Trousers, The (1993)                          4.588235  4.478261\n",
      "Wyatt Earp (1994)                                   3.147059  3.283898\n",
      "X-Files: Fight the Future, The (1998)               3.489474  3.493797\n",
      "X-Men (2000)                                        3.682310  3.851702\n",
      "Year of Living Dangerously (1982)                   3.951220  3.869403\n",
      "Yellow Submarine (1968)                             3.714286  3.689286\n",
      "You've Got Mail (1998)                              3.542424  3.275591\n",
      "Young Frankenstein (1974)                           4.289963  4.239177\n",
      "Young Guns (1988)                                   3.371795  3.425620\n",
      "Young Guns II (1990)                                2.934783  2.904025\n",
      "Young Sherlock Holmes (1985)                        3.514706  3.363344\n",
      "Zero Effect (1998)                                  3.864407  3.723140\n",
      "eXistenZ (1999)                                     3.098592  3.289086\n",
      "\n",
      "[1216 rows x 2 columns]\n",
      "\n",
      "\n",
      "get top films among female viewers\n",
      "\n",
      "\n",
      "gender                                                     F         M\n",
      "title                                                                 \n",
      "Close Shave, A (1995)                               4.644444  4.473795\n",
      "Wrong Trousers, The (1993)                          4.588235  4.478261\n",
      "Sunset Blvd. (a.k.a. Sunset Boulevard) (1950)       4.572650  4.464589\n",
      "Wallace & Gromit: The Best of Aardman Animation...  4.563107  4.385075\n",
      "Schindler's List (1993)                             4.562602  4.491415\n",
      "Shawshank Redemption, The (1994)                    4.539075  4.560625\n",
      "Grand Day Out, A (1992)                             4.537879  4.293255\n",
      "To Kill a Mockingbird (1962)                        4.536667  4.372611\n",
      "Creature Comforts (1990)                            4.513889  4.272277\n",
      "Usual Suspects, The (1995)                          4.513317  4.518248\n"
     ]
    }
   ],
   "source": [
    "#Group data by title and use size() to group\n",
    "ratings_by_title = data.groupby('title').size()\n",
    "print ratings_by_title[:5]\n",
    "\n",
    "print '\\n'\n",
    "print 'Only get titles with more than 250 ratings'\n",
    "print '\\n'\n",
    "\n",
    "active_titles = ratings_by_title.index[ratings_by_title >= 250]\n",
    "print active_titles[:5]\n",
    "\n",
    "print '\\n'\n",
    "print 'select rows by mean rating'\n",
    "print '\\n'\n",
    "\n",
    "mean_ratings = mean_ratings.ix[active_titles]\n",
    "print mean_ratings\n",
    "\n",
    "print '\\n'\n",
    "print 'get top films among female viewers'\n",
    "print '\\n'\n",
    "\n",
    "top_female_ratings = mean_ratings.sort_index(by = 'F', ascending = False)\n",
    "print top_female_ratings[:10]"
   ]
  },
  {
   "cell_type": "code",
   "execution_count": 14,
   "metadata": {
    "collapsed": false
   },
   "outputs": [
    {
     "data": {
      "text/plain": [
       "title\n",
       "Dumb & Dumber (1994)                     1.321333\n",
       "Blair Witch Project, The (1999)          1.316368\n",
       "Natural Born Killers (1994)              1.307198\n",
       "Tank Girl (1995)                         1.277695\n",
       "Rocky Horror Picture Show, The (1975)    1.260177\n",
       "Eyes Wide Shut (1999)                    1.259624\n",
       "Evita (1996)                             1.253631\n",
       "Billy Madison (1995)                     1.249970\n",
       "Fear and Loathing in Las Vegas (1998)    1.246408\n",
       "Bicentennial Man (1999)                  1.245533\n",
       "Name: rating, dtype: float64"
      ]
     },
     "execution_count": 14,
     "metadata": {},
     "output_type": "execute_result"
    }
   ],
   "source": [
    "#Now for ratings disagreement\n",
    "mean_ratings['diff'] = mean_ratings['M'] - mean_ratings['F']\n",
    "sorted_by_diff = mean_ratings.sort_index(by = 'diff')\n",
    "#print sorted_by_diff[:10]\n",
    "\n",
    "#Reverse order of rows\n",
    "sorted_by_diff[::-1][:10]\n",
    "\n",
    "#Standard deviation of rating grouped by title\n",
    "rating_std_by_title = data.groupby('title')['rating'].std()\n",
    "rating_std_by_title = rating_std_by_title.ix[active_titles] #filter only active titles\n",
    "rating_std_by_title.order(ascending = False)[:10]"
   ]
  },
  {
   "cell_type": "markdown",
   "metadata": {
    "collapsed": true
   },
   "source": [
    "##US Baby Names"
   ]
  },
  {
   "cell_type": "code",
   "execution_count": null,
   "metadata": {
    "collapsed": true
   },
   "outputs": [],
   "source": []
  }
 ],
 "metadata": {
  "kernelspec": {
   "display_name": "Python 2",
   "language": "python",
   "name": "python2"
  },
  "language_info": {
   "codemirror_mode": {
    "name": "ipython",
    "version": 2
   },
   "file_extension": ".py",
   "mimetype": "text/x-python",
   "name": "python",
   "nbconvert_exporter": "python",
   "pygments_lexer": "ipython2",
   "version": "2.7.6"
  }
 },
 "nbformat": 4,
 "nbformat_minor": 0
}
